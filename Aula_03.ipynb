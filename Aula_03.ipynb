{
  "nbformat": 4,
  "nbformat_minor": 0,
  "metadata": {
    "colab": {
      "name": "Aula 03",
      "provenance": [],
      "authorship_tag": "ABX9TyOs+I23TOUuU/c+odc4VAr/",
      "include_colab_link": true
    },
    "kernelspec": {
      "name": "python3",
      "display_name": "Python 3"
    },
    "language_info": {
      "name": "python"
    }
  },
  "cells": [
    {
      "cell_type": "markdown",
      "metadata": {
        "id": "view-in-github",
        "colab_type": "text"
      },
      "source": [
        "<a href=\"https://colab.research.google.com/github/cilasoceans01/ESTUDOS/blob/main/Aula_03.ipynb\" target=\"_parent\"><img src=\"https://colab.research.google.com/assets/colab-badge.svg\" alt=\"Open In Colab\"/></a>"
      ]
    },
    {
      "cell_type": "code",
      "execution_count": 1,
      "metadata": {
        "colab": {
          "base_uri": "https://localhost:8080/"
        },
        "id": "G4gH1lTgBQ8j",
        "outputId": "eb42ae91-b1ea-45ef-c658-d04f7c71ab74"
      },
      "outputs": [
        {
          "output_type": "stream",
          "name": "stdout",
          "text": [
            "OLÁ, ETE PORTO DIGITAL\n"
          ]
        }
      ],
      "source": [
        "#ETE PORTO DIGITAL\n",
        "#DISCIPLINA: LPCL\n",
        "#PROFESSOR: CLOVES\n",
        "#ESTUDANTE: ?\n",
        "print('OLÁ, ETE PORTO DIGITAL!')"
      ]
    }
  ]
}